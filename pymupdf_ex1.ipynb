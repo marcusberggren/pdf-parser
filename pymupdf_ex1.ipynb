{
 "cells": [
  {
   "cell_type": "code",
   "execution_count": 25,
   "metadata": {},
   "outputs": [],
   "source": [
    "import fitz\n",
    "import re"
   ]
  },
  {
   "cell_type": "code",
   "execution_count": 26,
   "metadata": {},
   "outputs": [],
   "source": [
    "doc = fitz.open('H332 X-PRESS MULHACEN 11.1.2022.pdf')"
   ]
  },
  {
   "cell_type": "code",
   "execution_count": 27,
   "metadata": {},
   "outputs": [],
   "source": [
    "shipper = (33, 140)\n",
    "unit = (222, 290)\n",
    "goods = (312, 445)\n",
    "netw = (468, 502)\n",
    "tare = (510, 547)\n",
    "pod = (460, 550)\n",
    "base_triangle = (33, 100, 547, 580)"
   ]
  },
  {
   "cell_type": "code",
   "execution_count": 51,
   "metadata": {},
   "outputs": [],
   "source": [
    "total_starts = []   # lista över rektanglar för \"Shipper :\" på alla blad\n",
    "total_stops = []    # lista över rektanglar för \"Units :\" på alla blad\n",
    "total_height = 0.0  # loop över summan av höjderna på alla blad\n",
    "total_words = []    # lista över alla dokumentets ord på alla blad\n",
    "rect_pods = []     # lista över rektanglar för \"Port of Discharge\" på alla blad\n",
    "words_in_rectangles = [] # lista för ord inom rektanglarna, utan \"headers\"\n",
    "total_pods = [] # lista över rektanglar och namn för PODs\n",
    "\n",
    "for page in doc:\n",
    "\n",
    "    # starts\n",
    "    starts = page.search_for(\"Shipper :\")\n",
    "    for rect in starts:\n",
    "        total_starts.append(rect + (0, total_height, 0, total_height)) # lägger till på höjden för y0 och y1\n",
    "\n",
    "    # stops\n",
    "    stops = page.search_for(\"Units :\")\n",
    "    for rect in stops:\n",
    "        total_stops.append(rect + (0, total_height, 0, total_height))\n",
    "\n",
    "    # total_words\n",
    "    words_in_page = page.get_text(\"words\")\n",
    "    for words in words_in_page:\n",
    "        total_words.append([words[0], words[1] + total_height, words[2], words[3] + total_height, words[4]])\n",
    "\n",
    "    # rect_pods\n",
    "    pods = page.search_for('Port of discharge')\n",
    "    for rect in pods:      \n",
    "        rect_pods.append(rect + (0, total_height + 12.20998, 0, total_height + 16.08598)) # lägger till på y0 och y1 för att hitta POD\n",
    "    \n",
    "    # words_in_rectangles\n",
    "    base_triangle = (33, 100 + total_height, 547, 580 + total_height) # Utgår från basrektangel (33, 100, 547, 580) och lägger på totalhöjden\n",
    "    words_in_rectangles += [word for word in total_words if fitz.Rect(word[:4]).intersects(base_triangle)] # Tar fram alla ord inom rektangeln ovan\n",
    "    \n",
    "    total_height += page.rect.height # lägger till totalhöjden varje loop\n",
    "       \n",
    "#rect_pods 2\n",
    "\n",
    "pod_names = [' '.join([words[4] for words in total_words if fitz.Rect(words[:4]).intersect(pod)]) for pod in rect_pods] # Tar fram alla POD is en lista\n",
    "\n",
    "for rect, pod in zip(rect_pods, pod_names):      #lägger ihop rektanglarna med POD-namn\n",
    "    total_pods.append([rect[0], rect[1], rect[2], rect[3], pod])"
   ]
  },
  {
   "cell_type": "code",
   "execution_count": 52,
   "metadata": {},
   "outputs": [],
   "source": [
    "def gather_data(start, stop):\n",
    "    rektangel = (464, start[1], 555, stop[3]) # rektangel för området\n",
    "    samma_rad = start[1]        # värdet uppdateras varje loop med värdet från föregående loop\n",
    "    lista_gathered_data = []    # varje ny rad representerar en instans i listan\n",
    "    ordlista = \"\"\n",
    "    \n",
    "    for word in total_words:\n",
    "            \n",
    "        if fitz.Rect(word[:4]).intersects(rektangel):\n",
    "            \n",
    "            if samma_rad != word[1]:\n",
    "                lista_gathered_data.append(ordlista.strip())\n",
    "                ordlista = \"\"\n",
    "                ordlista = word[4]\n",
    "\n",
    "            elif samma_rad == word[1]:\n",
    "                ordlista += \" \" + word[4]\n",
    "\n",
    "            samma_rad = word[1]\n",
    "\n",
    "    lista_gathered_data.append(ordlista.strip()) # lägger till den sista raden i loopen\n",
    "       \n",
    "    return lista_gathered_data\n"
   ]
  },
  {
   "cell_type": "code",
   "execution_count": 54,
   "metadata": {},
   "outputs": [
    {
     "data": {
      "text/plain": [
       "(['20 DC', '3 PKG STAINLESS STEEL'],\n",
       " ['Customs status \"N\"',\n",
       "  'Transhipment by MSC CATERINA',\n",
       "  'Voy. NA202A',\n",
       "  'ETD 23.1.2022 NAVEGANTES, SC',\n",
       "  'ETA 12.2.2022',\n",
       "  'Ref. 79096203 OPS',\n",
       "  '44089/1632869',\n",
       "  'FREIGHT PAYABLE AT As per C/P'])"
      ]
     },
     "execution_count": 54,
     "metadata": {},
     "output_type": "execute_result"
    }
   ],
   "source": [
    "def get_goods_info(goods, start, stop):\n",
    "\n",
    "    rectangle = (goods[0], start[1], goods[1], stop[3])\n",
    "    samma_rad = start\n",
    "    lista_gathered_data = []\n",
    "    lista_ord = \"\"\n",
    "\n",
    "    for word in words_in_rectangles:\n",
    "\n",
    "        if fitz.Rect(word[:4]).intersects(rectangle):\n",
    "            \n",
    "            wording = re.sub(r\"'\", \"\", word[4])                     # Tar bort ' från exv. \"20' DC\"\n",
    "\n",
    "            if samma_rad == word[1]:                                # Om y-värdet på föregående rad i loop är samma som y-värdet för denna runda\n",
    "                lista_ord += \" \" + wording\n",
    "\n",
    "            elif samma_rad != word[1]:                              # Om y-värdet inte stämmer överens\n",
    "                    lista_gathered_data.append(lista_ord.strip())\n",
    "                    lista_ord = \"\"\n",
    "                    lista_ord = wording\n",
    "\n",
    "            samma_rad = word[1]                                     # Sparar Y-värdet för raden för denna loop. Används i nästa runda\n",
    "\n",
    "    lista_gathered_data.remove('')                                  # Tar bort första \"\" i listan\n",
    "    \n",
    "    customs_found = [id for id, value in enumerate(lista_gathered_data) if re.search(r'^Customs', value)]  # Söker efter \"Customs\" i lista_gathered_data och letar match\n",
    "    \n",
    "    lista_ytterligare_info = lista_gathered_data[customs_found[0]:]                                         # Ny lista som kopierar info från match med \"Customs\" och till slutet\n",
    "    lista_gathered_data = lista_gathered_data[:customs_found[0]]                                            # Gör om lista och tar info fram till \"Customs\" match\n",
    "\n",
    "    return lista_gathered_data, lista_ytterligare_info\n",
    "\n",
    "get_goods_info(goods, total_starts[20], total_stops[20])"
   ]
  },
  {
   "cell_type": "code",
   "execution_count": 32,
   "metadata": {},
   "outputs": [],
   "source": [
    "new_list2 = ['Customs status \"N\"',\n",
    "  'Transhipment by MSC PETRA',\n",
    "  'Voy. NT202A',\n",
    "  'ETD 25.1.2022 GEBZE ETA',\n",
    "  '1.2.2022',\n",
    "  'Ref. 11221059091 OPS',\n",
    "  '43914/1631983',\n",
    "  'FREIGHT PAYABLE AT As per C/P']\n",
    "\n",
    "new_list3 = ['Customs status \"N\"',\n",
    "  'Transhipment by MSC CATERINA',\n",
    "  'Voy. NA202A',\n",
    "  'ETD 23.1.2022 NAVEGANTES, SC',\n",
    "  'ETA 12.2.2022',\n",
    "  'Ref. 79096203 OPS',\n",
    "  '44089/1632869',\n",
    "  'FREIGHT PAYABLE AT As per C/P']\n"
   ]
  },
  {
   "cell_type": "code",
   "execution_count": 33,
   "metadata": {},
   "outputs": [
    {
     "ename": "NameError",
     "evalue": "name 'i' is not defined",
     "output_type": "error",
     "traceback": [
      "\u001b[1;31m---------------------------------------------------------------------------\u001b[0m",
      "\u001b[1;31mNameError\u001b[0m                                 Traceback (most recent call last)",
      "\u001b[1;32mc:\\Users\\Marcus\\Python\\pdfparser-repo\\pymupdf_ex1.ipynb Cell 9'\u001b[0m in \u001b[0;36m<module>\u001b[1;34m\u001b[0m\n\u001b[0;32m     <a href='vscode-notebook-cell:/c%3A/Users/Marcus/Python/pdfparser-repo/pymupdf_ex1.ipynb#ch0000007?line=20'>21</a>\u001b[0m         \u001b[39m#if re.search(r'', val, i):\u001b[39;00m\n\u001b[0;32m     <a href='vscode-notebook-cell:/c%3A/Users/Marcus/Python/pdfparser-repo/pymupdf_ex1.ipynb#ch0000007?line=21'>22</a>\u001b[0m         \u001b[39m#    final_dest = \"\"\u001b[39;00m\n\u001b[0;32m     <a href='vscode-notebook-cell:/c%3A/Users/Marcus/Python/pdfparser-repo/pymupdf_ex1.ipynb#ch0000007?line=23'>24</a>\u001b[0m     \u001b[39mreturn\u001b[39;00m customs_status, ocean_vessel, voyage\n\u001b[1;32m---> <a href='vscode-notebook-cell:/c%3A/Users/Marcus/Python/pdfparser-repo/pymupdf_ex1.ipynb#ch0000007?line=25'>26</a>\u001b[0m breakdown_ytterligare_info()\n",
      "\u001b[1;32mc:\\Users\\Marcus\\Python\\pdfparser-repo\\pymupdf_ex1.ipynb Cell 9'\u001b[0m in \u001b[0;36mbreakdown_ytterligare_info\u001b[1;34m()\u001b[0m\n\u001b[0;32m      <a href='vscode-notebook-cell:/c%3A/Users/Marcus/Python/pdfparser-repo/pymupdf_ex1.ipynb#ch0000007?line=7'>8</a>\u001b[0m final_dest \u001b[39m=\u001b[39m \u001b[39m\"\u001b[39m\u001b[39m\"\u001b[39m\n\u001b[0;32m     <a href='vscode-notebook-cell:/c%3A/Users/Marcus/Python/pdfparser-repo/pymupdf_ex1.ipynb#ch0000007?line=9'>10</a>\u001b[0m \u001b[39mfor\u001b[39;00m val \u001b[39min\u001b[39;00m ny_lista:\n\u001b[1;32m---> <a href='vscode-notebook-cell:/c%3A/Users/Marcus/Python/pdfparser-repo/pymupdf_ex1.ipynb#ch0000007?line=11'>12</a>\u001b[0m     \u001b[39mif\u001b[39;00m re\u001b[39m.\u001b[39msearch(\u001b[39mr\u001b[39m\u001b[39m'\u001b[39m\u001b[39m^Customs\u001b[39m\u001b[39m\\\u001b[39m\u001b[39ms.\u001b[39m\u001b[39m{6}\u001b[39;00m\u001b[39m\\\u001b[39m\u001b[39ms\u001b[39m\u001b[39m\\\u001b[39m\u001b[39m\"\u001b[39m\u001b[39m.\u001b[39m\u001b[39m\\\u001b[39m\u001b[39m\"\u001b[39m\u001b[39m'\u001b[39m, val, i):\n\u001b[0;32m     <a href='vscode-notebook-cell:/c%3A/Users/Marcus/Python/pdfparser-repo/pymupdf_ex1.ipynb#ch0000007?line=12'>13</a>\u001b[0m         customs_status \u001b[39m=\u001b[39m val[\u001b[39m16\u001b[39m]\n\u001b[0;32m     <a href='vscode-notebook-cell:/c%3A/Users/Marcus/Python/pdfparser-repo/pymupdf_ex1.ipynb#ch0000007?line=14'>15</a>\u001b[0m     \u001b[39mif\u001b[39;00m re\u001b[39m.\u001b[39msearch(\u001b[39mr\u001b[39m\u001b[39m'\u001b[39m\u001b[39mTranshipment\u001b[39m\u001b[39m\\\u001b[39m\u001b[39msby\u001b[39m\u001b[39m\\\u001b[39m\u001b[39ms\u001b[39m\u001b[39m'\u001b[39m, val, i):\n",
      "\u001b[1;31mNameError\u001b[0m: name 'i' is not defined"
     ]
    }
   ],
   "source": [
    "def breakdown_ytterligare_info():\n",
    "\n",
    "    ny_lista = new_list2\n",
    "\n",
    "    customs_status = \"\"\n",
    "    ocean_vessel = \"\"\n",
    "    voyage = \"\"\n",
    "    final_dest = \"\"\n",
    "\n",
    "    for val in ny_lista:\n",
    "\n",
    "        if re.search(r'^Customs\\s.{6}\\s\\\".\\\"', val, i):\n",
    "            customs_status = val[16]\n",
    "\n",
    "        if re.search(r'Transhipment\\sby\\s', val, i):\n",
    "            ocean_vessel = val[16:]\n",
    "\n",
    "        if re.search(r'Voy.', val, i):      # Ej klar\n",
    "            voyage = val[4:]\n",
    "\n",
    "        #if re.search(r'', val, i):\n",
    "        #    final_dest = \"\"\n",
    "\n",
    "    return customs_status, ocean_vessel, voyage\n",
    "\n",
    "breakdown_ytterligare_info()"
   ]
  },
  {
   "cell_type": "code",
   "execution_count": null,
   "metadata": {},
   "outputs": [],
   "source": [
    "test_list = [1, 4, 5, 6, 4, 5, 6, 5, 4]\n",
    "\n",
    "size = len(test_list)\n",
    "idx_list = [idx + 1 for idx, val in\n",
    "            enumerate(test_list) if val == 5]\n",
    "\n",
    "new_list = []\n",
    "for i,j in zip([0, 3, 6, 8], [3, 6, 8, 9]):\n",
    "    new_list.append(test_list[i: j])\n",
    "\n",
    "print(new_list)"
   ]
  },
  {
   "cell_type": "code",
   "execution_count": null,
   "metadata": {},
   "outputs": [],
   "source": [
    "\"More changes\""
   ]
  }
 ],
 "metadata": {
  "interpreter": {
   "hash": "884c4502ebc3a63840972e75b8e138e315c9ee464a3fe28ffc4d696c24bed93c"
  },
  "kernelspec": {
   "display_name": "Python 3.9.7 ('py39')",
   "language": "python",
   "name": "python3"
  },
  "language_info": {
   "codemirror_mode": {
    "name": "ipython",
    "version": 3
   },
   "file_extension": ".py",
   "mimetype": "text/x-python",
   "name": "python",
   "nbconvert_exporter": "python",
   "pygments_lexer": "ipython3",
   "version": "3.9.7"
  },
  "orig_nbformat": 4
 },
 "nbformat": 4,
 "nbformat_minor": 2
}
