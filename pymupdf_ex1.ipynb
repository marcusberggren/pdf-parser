{
 "cells": [
  {
   "cell_type": "code",
   "execution_count": null,
   "source": [
    "import fitz\r\n",
    "import pandas as pd\r\n",
    "from itertools import groupby\r\n",
    "from operator import itemgetter"
   ],
   "outputs": [],
   "metadata": {}
  },
  {
   "cell_type": "code",
   "execution_count": null,
   "source": [
    "def recover(words, rect):\r\n",
    "    \r\n",
    "    # build sublist of words container in given rectangle\r\n",
    "    mywords = [w for w in words if fitz.Rect(w[:4]) in rect]\r\n",
    "\r\n",
    "    # sort the words by lower line, then by word start coordinate\r\n",
    "    mywords.sort(key=itemgetter(3, 0)) # sort by y1, x0 of word rectangle\r\n",
    "\r\n",
    "    # create word groups on same line\r\n",
    "    grouped_lines = groupby(mywords, key=itemgetter(3))\r\n",
    "\r\n",
    "    words_out = [] # will be returned\r\n",
    "\r\n",
    "    # iterate through the grouped lines\r\n",
    "    # for each line coorinate (\"_\"), the list of words is given\r\n",
    "    for _, words_in_line in grouped_lines:\r\n",
    "        for i, w in enumerate(words_in_line):\r\n",
    "            if i == 0: # store first word\r\n",
    "                x0, y0, y1, word = w[:5]\r\n",
    "                continue\r\n",
    "\r\n",
    "            r = fitz.Rect(w[:4]) # word rect\r\n",
    "\r\n",
    "            # compute word distance threshold as 20% of width of 1 letter.\r\n",
    "            # should be safe joining text pieces into one word if shorter distance than that\r\n",
    "            treshold = r.width / len(w[4]) / 5\r\n",
    "            if r.x0 <= x1 + treshold: # join with previous words\r\n",
    "                word += w[4]\r\n",
    "                x1 = r.x1\r\n",
    "                y0 = max(y0, r.y0)\r\n",
    "                continue\r\n",
    "\r\n",
    "            # now have a new words, output previous one\r\n",
    "            words_out.append([x0, y0, x1, y1, word])\r\n",
    "\r\n",
    "            # store the new word\r\n",
    "            x0, y0, x1, y1, word = w[:5]\r\n",
    "        \r\n",
    "        # output word waiting for completion\r\n",
    "        words_out.append([x0, y0, x1, y1, word])\r\n",
    "    return words_out\r\n",
    "\r\n",
    "def search_for(text, words):\r\n",
    "    rect_list = []\r\n",
    "\r\n",
    "    # search for text in items of list of words\r\n",
    "\r\n",
    "    for w in words:\r\n",
    "        if text in w[4]:\r\n",
    "            rect_list.append(fitz.Rect(w[:4]))\r\n",
    "    return rect_list\r\n",
    "\r\n"
   ],
   "outputs": [],
   "metadata": {}
  },
  {
   "cell_type": "code",
   "execution_count": null,
   "source": [],
   "outputs": [],
   "metadata": {}
  }
 ],
 "metadata": {
  "orig_nbformat": 4,
  "language_info": {
   "name": "python"
  }
 },
 "nbformat": 4,
 "nbformat_minor": 2
}