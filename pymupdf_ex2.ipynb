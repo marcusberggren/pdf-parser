{
 "cells": [
  {
   "cell_type": "code",
   "execution_count": 1,
   "source": [
    "import fitz\r\n",
    "import pandas as pd"
   ],
   "outputs": [],
   "metadata": {}
  },
  {
   "cell_type": "code",
   "execution_count": null,
   "source": [
    "doc = fitz.open('X-PRESS MULHACEN H241 MANIFEST.pdf')"
   ],
   "outputs": [],
   "metadata": {}
  },
  {
   "cell_type": "code",
   "execution_count": 43,
   "source": [
    "total_starts = [] # list of rects for \"Shipper :\" on all pages\r\n",
    "total_stops = [] # list of rects for \"Units :\" on all pages\r\n",
    "total_height = 0.0 # running sum of page heights\r\n",
    "total_words = [] # list of all doc words on all pages\r\n",
    "total_pods = [] # list of rects for \"Port of discharge\" on all pages\r\n",
    "\r\n",
    "for page in doc:\r\n",
    "    starts = page.searchFor(\"Shipper :\")\r\n",
    "\r\n",
    "    for r in starts:\r\n",
    "        total_starts.append(r + (0, total_height, 0, total_height)) # append modif. rect\r\n",
    "\r\n",
    "    stops = page.searchFor(\"Units :\")\r\n",
    "\r\n",
    "    for r in stops:\r\n",
    "        total_stops.append(r + (0, total_height, 0, total_height)) # append modif. rect\r\n",
    "\r\n",
    "    wl = page.getTextWords()\r\n",
    "\r\n",
    "    for w in wl:\r\n",
    "        total_words.append([w[0], w[1] + total_height, w[2], w[3] + total_height, w[4]])\r\n",
    "\r\n",
    "    pods = page.searchFor('Port of discharge')\r\n",
    "    r = 0\r\n",
    "    for r in pods:\r\n",
    "        total_pods.append(r + (0, total_height, 0, total_height))\r\n",
    "\r\n",
    "    total_height += page.rect.height # to be used for following page\r\n",
    "\r\n",
    "\r\n",
    "rektangel = total_starts[0] | total_stops[0]\r\n",
    "page = doc[0]\r\n",
    "def gather_data(x0x1, start, stop):\r\n",
    "    \r\n",
    "    rektangel = (x0x1[0], start[1], x0x1[1], stop[3])\r\n",
    "    get_text = page.get_textbox(rektangel)\r\n",
    "    #get_text = [w for w in total_words if fitz.Rect(w[:4]).intersects(rektangel)]\r\n",
    "\r\n",
    "    return get_text\r\n",
    "\r\n",
    "shipper = (33, 181)\r\n",
    "goods = (312, 445)\r\n",
    "\r\n",
    "print(gather_data(goods, total_starts[0], total_stops[0]))\r\n"
   ],
   "outputs": [
    {
     "output_type": "stream",
     "name": "stdout",
     "text": [
      "20' DC\n",
      "1   LOT  FERROCHROME\n",
      "20' DC\n",
      "1   LOT  FERROCHROME\n",
      "20' DC\n",
      "1   LOT  FERROCHROME\n",
      "20' DC\n",
      "1   LOT  FERROCHROME\n",
      "20' DC\n",
      "1   LOT  FERROCHROME\n",
      "20' DC\n",
      "1   LOT  FERROCHROME\n",
      "20' DC\n",
      "1   LOT  FERROCHROME\n",
      "20' DC\n",
      "1   LOT  FERROCHROME\n",
      "20' DC\n",
      "1   LOT  FERROCHROME\n",
      "20' DC\n",
      "1   LOT  FERROCHROME\n",
      "20' DC\n",
      "1   LOT  FERROCHROME\n",
      "20' DC\n",
      "1   LOT  FERROCHROME\n",
      "20' DC\n",
      "1   LOT  FERROCHROME\n",
      "Customs status \"N\"\n",
      "Transhipment by  TBN voy. ??? \n",
      "ETD XX.10.2021 SYDNEY  ETA \n",
      "21.11.2021\n",
      "Ref. 11221000203  OPS: \n",
      "FERROCHROME/Jukka Knuuti\n",
      "FREIGHT PAYABLE AT As per C/P\n",
      "MRN: 21FI000000987023E8\n"
     ]
    }
   ],
   "metadata": {}
  },
  {
   "cell_type": "code",
   "execution_count": null,
   "source": [],
   "outputs": [],
   "metadata": {}
  }
 ],
 "metadata": {
  "orig_nbformat": 4,
  "language_info": {
   "name": "python",
   "version": "3.9.7",
   "mimetype": "text/x-python",
   "codemirror_mode": {
    "name": "ipython",
    "version": 3
   },
   "pygments_lexer": "ipython3",
   "nbconvert_exporter": "python",
   "file_extension": ".py"
  },
  "kernelspec": {
   "name": "python3",
   "display_name": "Python 3.9.7 64-bit ('py39': conda)"
  },
  "interpreter": {
   "hash": "7421cbe4b09021dad53139636d3ed1a1a444c5967044879299b37e9c459594e7"
  }
 },
 "nbformat": 4,
 "nbformat_minor": 2
}