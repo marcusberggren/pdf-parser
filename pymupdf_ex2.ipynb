{
 "cells": [
  {
   "cell_type": "code",
   "execution_count": 1,
   "metadata": {},
   "outputs": [],
   "source": [
    "import fitz\n",
    "import pandas as pd"
   ]
  },
  {
   "cell_type": "code",
   "execution_count": null,
   "metadata": {},
   "outputs": [],
   "source": [
    "doc = fitz.open('X-PRESS MULHACEN H241 MANIFEST.pdf')"
   ]
  },
  {
   "cell_type": "code",
   "execution_count": 43,
   "metadata": {},
   "outputs": [
    {
     "name": "stdout",
     "output_type": "stream",
     "text": [
      "20' DC\n",
      "1   LOT  FERROCHROME\n",
      "20' DC\n",
      "1   LOT  FERROCHROME\n",
      "20' DC\n",
      "1   LOT  FERROCHROME\n",
      "20' DC\n",
      "1   LOT  FERROCHROME\n",
      "20' DC\n",
      "1   LOT  FERROCHROME\n",
      "20' DC\n",
      "1   LOT  FERROCHROME\n",
      "20' DC\n",
      "1   LOT  FERROCHROME\n",
      "20' DC\n",
      "1   LOT  FERROCHROME\n",
      "20' DC\n",
      "1   LOT  FERROCHROME\n",
      "20' DC\n",
      "1   LOT  FERROCHROME\n",
      "20' DC\n",
      "1   LOT  FERROCHROME\n",
      "20' DC\n",
      "1   LOT  FERROCHROME\n",
      "20' DC\n",
      "1   LOT  FERROCHROME\n",
      "Customs status \"N\"\n",
      "Transhipment by  TBN voy. ??? \n",
      "ETD XX.10.2021 SYDNEY  ETA \n",
      "21.11.2021\n",
      "Ref. 11221000203  OPS: \n",
      "FERROCHROME/Jukka Knuuti\n",
      "FREIGHT PAYABLE AT As per C/P\n",
      "MRN: 21FI000000987023E8\n"
     ]
    }
   ],
   "source": [
    "total_starts = [] # list of rects for \"Shipper :\" on all pages\n",
    "total_stops = [] # list of rects for \"Units :\" on all pages\n",
    "total_height = 0.0 # running sum of page heights\n",
    "total_words = [] # list of all doc words on all pages\n",
    "total_pods = [] # list of rects for \"Port of discharge\" on all pages\n",
    "\n",
    "for page in doc:\n",
    "    starts = page.searchFor(\"Shipper :\")\n",
    "\n",
    "    for r in starts:\n",
    "        total_starts.append(r + (0, total_height, 0, total_height)) # append modif. rect\n",
    "\n",
    "    stops = page.searchFor(\"Units :\")\n",
    "\n",
    "    for r in stops:\n",
    "        total_stops.append(r + (0, total_height, 0, total_height)) # append modif. rect\n",
    "\n",
    "    wl = page.getTextWords()\n",
    "\n",
    "    for w in wl:\n",
    "        total_words.append([w[0], w[1] + total_height, w[2], w[3] + total_height, w[4]])\n",
    "\n",
    "    pods = page.searchFor('Port of discharge')\n",
    "    r = 0\n",
    "    for r in pods:\n",
    "        total_pods.append(r + (0, total_height, 0, total_height))\n",
    "\n",
    "    total_height += page.rect.height # to be used for following page\n",
    "\n",
    "\n",
    "rektangel = total_starts[0] | total_stops[0]\n",
    "page = doc[0]\n",
    "def gather_data(x0x1, start, stop):\n",
    "    \n",
    "    rektangel = (x0x1[0], start[1], x0x1[1], stop[3])\n",
    "    get_text = page.get_textbox(rektangel)\n",
    "    #get_text = [w for w in total_words if fitz.Rect(w[:4]).intersects(rektangel)]\n",
    "\n",
    "    return get_text\n",
    "\n",
    "shipper = (33, 181)\n",
    "goods = (312, 445)\n",
    "\n",
    "print(gather_data(goods, total_starts[0], total_stops[0]))\n"
   ]
  },
  {
   "cell_type": "code",
   "execution_count": null,
   "metadata": {},
   "outputs": [],
   "source": []
  }
 ],
 "metadata": {
  "interpreter": {
   "hash": "7421cbe4b09021dad53139636d3ed1a1a444c5967044879299b37e9c459594e7"
  },
  "kernelspec": {
   "display_name": "Python 3.9.7 64-bit ('py39': conda)",
   "name": "python3"
  },
  "language_info": {
   "codemirror_mode": {
    "name": "ipython",
    "version": 3
   },
   "file_extension": ".py",
   "mimetype": "text/x-python",
   "name": "python",
   "nbconvert_exporter": "python",
   "pygments_lexer": "ipython3",
   "version": "3.9.7"
  },
  "orig_nbformat": 4
 },
 "nbformat": 4,
 "nbformat_minor": 2
}
