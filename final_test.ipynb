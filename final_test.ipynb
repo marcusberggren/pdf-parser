{
 "cells": [
  {
   "cell_type": "code",
   "execution_count": 2,
   "metadata": {},
   "outputs": [],
   "source": [
    "from dataclasses import dataclass, field\n",
    "import pandas as pd\n",
    "import fitz\n",
    "import re\n"
   ]
  },
  {
   "cell_type": "code",
   "execution_count": 3,
   "metadata": {},
   "outputs": [
    {
     "ename": "NameError",
     "evalue": "name 'Coordinates' is not defined",
     "output_type": "error",
     "traceback": [
      "\u001b[1;31m---------------------------------------------------------------------------\u001b[0m",
      "\u001b[1;31mNameError\u001b[0m                                 Traceback (most recent call last)",
      "\u001b[1;32mc:\\Users\\SWV224\\BOLLORE\\XPF - Documents\\MAINTENANCE\\PYTHON\\pdf-parser\\final_test.ipynb Cell 2'\u001b[0m in \u001b[0;36m<cell line: 1>\u001b[1;34m()\u001b[0m\n\u001b[1;32m----> <a href='vscode-notebook-cell:/c%3A/Users/SWV224/BOLLORE/XPF%20-%20Documents/MAINTENANCE/PYTHON/pdf-parser/final_test.ipynb#ch0000001?line=0'>1</a>\u001b[0m shipper \u001b[39m=\u001b[39m Coordinates(\u001b[39m33\u001b[39m, \u001b[39m140\u001b[39m)\n\u001b[0;32m      <a href='vscode-notebook-cell:/c%3A/Users/SWV224/BOLLORE/XPF%20-%20Documents/MAINTENANCE/PYTHON/pdf-parser/final_test.ipynb#ch0000001?line=1'>2</a>\u001b[0m unit \u001b[39m=\u001b[39m Coordinates(\u001b[39m222\u001b[39m, \u001b[39m290\u001b[39m)\n\u001b[0;32m      <a href='vscode-notebook-cell:/c%3A/Users/SWV224/BOLLORE/XPF%20-%20Documents/MAINTENANCE/PYTHON/pdf-parser/final_test.ipynb#ch0000001?line=2'>3</a>\u001b[0m goods \u001b[39m=\u001b[39m Coordinates(\u001b[39m312\u001b[39m, \u001b[39m1445\u001b[39m)\n",
      "\u001b[1;31mNameError\u001b[0m: name 'Coordinates' is not defined"
     ]
    }
   ],
   "source": [
    "shipper = Coordinates(33, 140)\n",
    "unit = Coordinates(222, 290)\n",
    "goods = Coordinates(312, 1445)\n",
    "netw = Coordinates(468, 502)\n",
    "tare = Coordinates(510, 547)\n",
    "pod = Coordinates(460, 500)\n",
    "\n",
    "base_rect = Rectangle(33, 100, 547, 580)"
   ]
  },
  {
   "cell_type": "code",
   "execution_count": 98,
   "metadata": {},
   "outputs": [],
   "source": [
    "base_rect.y0 = 150"
   ]
  },
  {
   "cell_type": "code",
   "execution_count": 99,
   "metadata": {},
   "outputs": [
    {
     "data": {
      "text/plain": [
       "Rectangle(x0=33, y0=150, x1=547, y1=580)"
      ]
     },
     "execution_count": 99,
     "metadata": {},
     "output_type": "execute_result"
    }
   ],
   "source": [
    "base_rect"
   ]
  },
  {
   "cell_type": "code",
   "execution_count": 100,
   "metadata": {},
   "outputs": [
    {
     "data": {
      "text/plain": [
       "(33, 250, 547, 780)"
      ]
     },
     "execution_count": 100,
     "metadata": {},
     "output_type": "execute_result"
    }
   ],
   "source": [
    "base_rect.update(100, 200)"
   ]
  },
  {
   "cell_type": "code",
   "execution_count": 103,
   "metadata": {},
   "outputs": [
    {
     "data": {
      "text/plain": [
       "Coordinates(y0=33, y1=140)"
      ]
     },
     "execution_count": 103,
     "metadata": {},
     "output_type": "execute_result"
    }
   ],
   "source": [
    "shipper"
   ]
  },
  {
   "cell_type": "code",
   "execution_count": 1,
   "metadata": {},
   "outputs": [
    {
     "ename": "ModuleNotFoundError",
     "evalue": "No module named 'pydantic'",
     "output_type": "error",
     "traceback": [
      "\u001b[1;31m---------------------------------------------------------------------------\u001b[0m",
      "\u001b[1;31mModuleNotFoundError\u001b[0m                       Traceback (most recent call last)",
      "\u001b[1;32mc:\\Users\\SWV224\\BOLLORE\\XPF - Documents\\MAINTENANCE\\PYTHON\\pdf-parser\\final_test.ipynb Cell 7'\u001b[0m in \u001b[0;36m<module>\u001b[1;34m\u001b[0m\n\u001b[1;32m----> <a href='vscode-notebook-cell:/c%3A/Users/SWV224/BOLLORE/XPF%20-%20Documents/MAINTENANCE/PYTHON/pdf-parser/final_test.ipynb#ch0000006?line=0'>1</a>\u001b[0m \u001b[39mfrom\u001b[39;00m \u001b[39mclasses\u001b[39;00m \u001b[39mimport\u001b[39;00m \u001b[39m*\u001b[39m\n",
      "File \u001b[1;32mc:\\Users\\SWV224\\BOLLORE\\XPF - Documents\\MAINTENANCE\\PYTHON\\pdf-parser\\classes.py:3\u001b[0m, in \u001b[0;36m<module>\u001b[1;34m\u001b[0m\n\u001b[0;32m      <a href='file:///c%3A/Users/SWV224/BOLLORE/XPF%20-%20Documents/MAINTENANCE/PYTHON/pdf-parser/classes.py?line=0'>1</a>\u001b[0m \u001b[39mfrom\u001b[39;00m \u001b[39mdataclasses\u001b[39;00m \u001b[39mimport\u001b[39;00m dataclass, field\n\u001b[0;32m      <a href='file:///c%3A/Users/SWV224/BOLLORE/XPF%20-%20Documents/MAINTENANCE/PYTHON/pdf-parser/classes.py?line=1'>2</a>\u001b[0m \u001b[39mfrom\u001b[39;00m \u001b[39mtyping\u001b[39;00m \u001b[39mimport\u001b[39;00m Optional, List\n\u001b[1;32m----> <a href='file:///c%3A/Users/SWV224/BOLLORE/XPF%20-%20Documents/MAINTENANCE/PYTHON/pdf-parser/classes.py?line=2'>3</a>\u001b[0m \u001b[39mfrom\u001b[39;00m \u001b[39mpydantic\u001b[39;00m \u001b[39mimport\u001b[39;00m BaseModel\n\u001b[0;32m      <a href='file:///c%3A/Users/SWV224/BOLLORE/XPF%20-%20Documents/MAINTENANCE/PYTHON/pdf-parser/classes.py?line=4'>5</a>\u001b[0m \u001b[39mclass\u001b[39;00m \u001b[39mCoordinates\u001b[39;00m(BaseModel):\n\u001b[0;32m      <a href='file:///c%3A/Users/SWV224/BOLLORE/XPF%20-%20Documents/MAINTENANCE/PYTHON/pdf-parser/classes.py?line=5'>6</a>\u001b[0m     x0: Optional[\u001b[39mfloat\u001b[39m]\n",
      "\u001b[1;31mModuleNotFoundError\u001b[0m: No module named 'pydantic'"
     ]
    }
   ],
   "source": [
    "from classes import *"
   ]
  },
  {
   "cell_type": "code",
   "execution_count": null,
   "metadata": {},
   "outputs": [],
   "source": []
  }
 ],
 "metadata": {
  "interpreter": {
   "hash": "dfba822a0ef445a5722cc5f995354a2bca66c844a13293b14a431f9b08cbd6fa"
  },
  "kernelspec": {
   "display_name": "Python 3.9.7 ('py39')",
   "language": "python",
   "name": "python3"
  },
  "language_info": {
   "codemirror_mode": {
    "name": "ipython",
    "version": 3
   },
   "file_extension": ".py",
   "mimetype": "text/x-python",
   "name": "python",
   "nbconvert_exporter": "python",
   "pygments_lexer": "ipython3",
   "version": "3.10.0"
  },
  "orig_nbformat": 4
 },
 "nbformat": 4,
 "nbformat_minor": 2
}
