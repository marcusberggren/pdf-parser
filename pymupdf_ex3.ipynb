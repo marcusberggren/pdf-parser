{
 "cells": [
  {
   "cell_type": "code",
   "execution_count": 49,
   "metadata": {},
   "outputs": [],
   "source": [
    "import fitz\n",
    "import re"
   ]
  },
  {
   "cell_type": "code",
   "execution_count": 50,
   "metadata": {},
   "outputs": [],
   "source": [
    "doc = fitz.open('H332 X-PRESS MULHACEN 11.1.2022.pdf')"
   ]
  },
  {
   "cell_type": "code",
   "execution_count": 51,
   "metadata": {},
   "outputs": [],
   "source": [
    "shipper = (33, 140)\n",
    "unit = (222, 290)\n",
    "goods = (312, 445)\n",
    "netw = (468, 502)\n",
    "tare = (510, 547)\n",
    "pod = (460, 550)"
   ]
  },
  {
   "cell_type": "code",
   "execution_count": 70,
   "metadata": {},
   "outputs": [],
   "source": [
    "total_starts = []   # lista över rektanglar för \"Shipper :\" på alla blad\n",
    "total_stops = []    # lista över rektanglar för \"Units :\" på alla blad\n",
    "total_height = 0.0  # loop över summan av höjderna på alla blad\n",
    "total_words = []    # lista över alla dokumentets ord på alla blad\n",
    "total_pods = []     # lista över rektanglar för \"Port of Discharge\" på alla blad\n",
    "\n",
    "for page in doc:\n",
    "    starts = page.search_for(\"Shipper :\")\n",
    "\n",
    "    for rect in starts:\n",
    "        total_starts.append(rect + (0, total_height, 0, total_height)) # append rect\n",
    "\n",
    "    stops = page.search_for(\"Units :\")\n",
    "\n",
    "    for rect in stops:\n",
    "        total_stops.append(rect + (0, total_height, 0, total_height)) # append rect\n",
    "\n",
    "    words_in_page = page.get_text_words()\n",
    "\n",
    "    for word in words_in_page:\n",
    "        total_words.append([word[0], word[1] + total_height, word[2], word[3] + total_height, word[4]])\n",
    "\n",
    "    pods = page.search_for('Port of discharge')\n",
    "    \n",
    "    for rect in pods:\n",
    "        total_pods.append(rect + (0, total_height + 8.3467, 0, total_height + 21.1507)) #8.3467 och 21.1507 är antalet punkter bort från \"Port of Discharge\"\n",
    "\n",
    "\n",
    "    total_height += page.rect.height # to be used for following page\n",
    "\n",
    "\n"
   ]
  },
  {
   "cell_type": "code",
   "execution_count": 59,
   "metadata": {},
   "outputs": [
    {
     "name": "stdout",
     "output_type": "stream",
     "text": [
      "22\n",
      "[Rect(464.3999938964844, 49.79002380371094, 509.75396728515625, 57.91402053833008), Rect(464.3999938964844, 644.7900238037109, 509.75396728515625, 652.9140205383301), Rect(464.3999938964844, 1239.790023803711, 509.75396728515625, 1247.91402053833), Rect(464.3999938964844, 1834.790023803711, 509.75396728515625, 1842.91402053833), Rect(464.3999938964844, 2429.790023803711, 509.75396728515625, 2437.91402053833), Rect(464.3999938964844, 3024.790023803711, 509.75396728515625, 3032.91402053833), Rect(464.3999938964844, 3619.790023803711, 509.75396728515625, 3627.91402053833), Rect(464.3999938964844, 4214.790023803711, 509.75396728515625, 4222.91402053833), Rect(464.3999938964844, 4809.790023803711, 509.75396728515625, 4817.91402053833), Rect(464.3999938964844, 5404.790023803711, 509.75396728515625, 5412.91402053833), Rect(464.3999938964844, 5999.790023803711, 509.75396728515625, 6007.91402053833), Rect(464.3999938964844, 6594.790023803711, 509.75396728515625, 6602.91402053833), Rect(464.3999938964844, 7189.790023803711, 509.75396728515625, 7197.91402053833), Rect(464.3999938964844, 7784.790023803711, 509.75396728515625, 7792.91402053833), Rect(464.3999938964844, 8379.790023803711, 509.75396728515625, 8387.91402053833), Rect(464.3999938964844, 8974.790023803711, 509.75396728515625, 8982.91402053833), Rect(464.3999938964844, 9569.790023803711, 509.75396728515625, 9577.91402053833), Rect(464.3999938964844, 10164.790023803711, 509.75396728515625, 10172.91402053833), Rect(464.3999938964844, 10759.790023803711, 509.75396728515625, 10767.91402053833), Rect(464.3999938964844, 11354.790023803711, 509.75396728515625, 11362.91402053833), Rect(464.3999938964844, 11949.790023803711, 509.75396728515625, 11957.91402053833), Rect(464.3999938964844, 12544.790023803711, 509.75396728515625, 12552.91402053833)]\n"
     ]
    }
   ],
   "source": [
    "print(len(total_pods))\n",
    "print(total_pods)"
   ]
  },
  {
   "cell_type": "code",
   "execution_count": 60,
   "metadata": {},
   "outputs": [
    {
     "name": "stdout",
     "output_type": "stream",
     "text": [
      "26\n",
      "[Rect(223.55999755859375, 404.6467590332031, 249.42071533203125, 416.064697265625), Rect(223.55999755859375, 780.8767395019531, 249.42071533203125, 792.2946929931641), Rect(223.55999755859375, 981.1067199707031, 249.42071533203125, 992.524658203125), Rect(223.55999755859375, 1375.8767395019531, 249.42071533203125, 1387.294692993164), Rect(223.55999755859375, 1595.1267395019531, 249.42071533203125, 1606.544677734375), Rect(223.55999755859375, 1942.3767395019531, 249.42071533203125, 1953.794692993164), Rect(223.55999755859375, 2142.5667419433594, 249.42071533203125, 2153.9846801757812), Rect(223.55999755859375, 2489.786750793457, 249.42071533203125, 2501.204689025879), Rect(223.55999755859375, 2699.5267333984375, 249.42071533203125, 2710.9446716308594), Rect(223.55999755859375, 2918.7767944335938, 249.42071533203125, 2930.1947021484375), Rect(223.55999755859375, 3303.5567321777344, 249.42071533203125, 3314.9746704101562), Rect(223.55999755859375, 3755.876739501953, 249.42071533203125, 3767.294692993164), Rect(223.55999755859375, 3984.636749267578, 249.42071533203125, 3996.0546875), Rect(223.55999755859375, 4369.90673828125, 249.42071533203125, 4381.324691772461), Rect(223.55999755859375, 5674.0467529296875, 249.42071533203125, 5685.464691162109), Rect(223.55999755859375, 5864.756744384766, 249.42071533203125, 5876.1746826171875), Rect(223.55999755859375, 6326.116729736328, 249.42071533203125, 6337.53466796875), Rect(223.55999755859375, 7497.086761474609, 249.42071533203125, 7508.504699707031), Rect(223.55999755859375, 7835.276741027832, 249.42071533203125, 7846.694679260254), Rect(223.55999755859375, 8025.986724853516, 249.42071533203125, 8037.4046630859375), Rect(223.55999755859375, 8216.706756591797, 249.42071533203125, 8228.124694824219), Rect(223.55999755859375, 9025.276741027832, 249.42071533203125, 9036.694679260254), Rect(223.55999755859375, 10415.01675415039, 249.42071533203125, 10426.434692382812), Rect(223.55999755859375, 10615.24673461914, 249.42071533203125, 10626.664672851562), Rect(223.55999755859375, 10952.946746826172, 249.42071533203125, 10964.364700317383), Rect(223.55999755859375, 12171.486724853516, 249.42071533203125, 12182.904663085938)]\n"
     ]
    }
   ],
   "source": [
    "print(len(total_stops))\n",
    "print(total_stops)"
   ]
  },
  {
   "cell_type": "code",
   "execution_count": 64,
   "metadata": {},
   "outputs": [
    {
     "ename": "ValueError",
     "evalue": "bad sequ length",
     "output_type": "error",
     "traceback": [
      "\u001b[1;31m---------------------------------------------------------------------------\u001b[0m",
      "\u001b[1;31mValueError\u001b[0m                                Traceback (most recent call last)",
      "Input \u001b[1;32mIn [64]\u001b[0m, in \u001b[0;36m<module>\u001b[1;34m\u001b[0m\n\u001b[0;32m     26\u001b[0m     \u001b[38;5;28mprint\u001b[39m(lista_pod_end)\n\u001b[0;32m     28\u001b[0m     \u001b[38;5;66;03m#print(lista_pod_start)\u001b[39;00m\n\u001b[0;32m     29\u001b[0m     \u001b[38;5;66;03m#print(lista_pod_end)\u001b[39;00m\n\u001b[1;32m---> 32\u001b[0m \u001b[43mcreate_large_rect_of_pod\u001b[49m\u001b[43m(\u001b[49m\u001b[43m)\u001b[49m\n",
      "Input \u001b[1;32mIn [64]\u001b[0m, in \u001b[0;36mcreate_large_rect_of_pod\u001b[1;34m()\u001b[0m\n\u001b[0;32m     16\u001b[0m     rektanglar_pod\u001b[38;5;241m.\u001b[39mappend([\u001b[38;5;241m1\u001b[39m, lista_pod_end[num] , \u001b[38;5;241m600\u001b[39m, lista_pod_start[num \u001b[38;5;241m+\u001b[39m \u001b[38;5;241m1\u001b[39m]])\n\u001b[0;32m     18\u001b[0m \u001b[38;5;28;01mfor\u001b[39;00m word \u001b[38;5;129;01min\u001b[39;00m words_in_page:\n\u001b[1;32m---> 19\u001b[0m     \u001b[38;5;28;01mif\u001b[39;00m \u001b[43mfitz\u001b[49m\u001b[38;5;241;43m.\u001b[39;49m\u001b[43mRect\u001b[49m\u001b[43m(\u001b[49m\u001b[43mword\u001b[49m\u001b[43m[\u001b[49m\u001b[43m:\u001b[49m\u001b[38;5;241;43m4\u001b[39;49m\u001b[43m]\u001b[49m\u001b[43m)\u001b[49m\u001b[38;5;241;43m.\u001b[39;49m\u001b[43mintersects\u001b[49m\u001b[43m(\u001b[49m\u001b[43mtotal_pods\u001b[49m\u001b[43m)\u001b[49m:\n\u001b[0;32m     20\u001b[0m         pod_namn\u001b[38;5;241m.\u001b[39mappend(word[\u001b[38;5;241m4\u001b[39m])\n\u001b[0;32m     22\u001b[0m \u001b[38;5;28mprint\u001b[39m(word)\n",
      "File \u001b[1;32m~\\Miniconda3\\envs\\py39\\lib\\site-packages\\fitz\\fitz.py:1193\u001b[0m, in \u001b[0;36mRect.intersects\u001b[1;34m(self, x)\u001b[0m\n\u001b[0;32m   1191\u001b[0m \u001b[38;5;28;01mdef\u001b[39;00m \u001b[38;5;21mintersects\u001b[39m(\u001b[38;5;28mself\u001b[39m, x):\n\u001b[0;32m   1192\u001b[0m     \u001b[38;5;124;03m\"\"\"Check if intersection with rectangle x is not empty.\"\"\"\u001b[39;00m\n\u001b[1;32m-> 1193\u001b[0m     r1 \u001b[38;5;241m=\u001b[39m \u001b[43mRect\u001b[49m\u001b[43m(\u001b[49m\u001b[43mx\u001b[49m\u001b[43m)\u001b[49m\n\u001b[0;32m   1194\u001b[0m     \u001b[38;5;28;01mif\u001b[39;00m \u001b[38;5;28mself\u001b[39m\u001b[38;5;241m.\u001b[39mis_empty \u001b[38;5;129;01mor\u001b[39;00m \u001b[38;5;28mself\u001b[39m\u001b[38;5;241m.\u001b[39mis_infinite \u001b[38;5;129;01mor\u001b[39;00m r1\u001b[38;5;241m.\u001b[39mis_empty \u001b[38;5;129;01mor\u001b[39;00m r1\u001b[38;5;241m.\u001b[39mis_infinite:\n\u001b[0;32m   1195\u001b[0m         \u001b[38;5;28;01mreturn\u001b[39;00m \u001b[38;5;28;01mFalse\u001b[39;00m\n",
      "File \u001b[1;32m~\\Miniconda3\\envs\\py39\\lib\\site-packages\\fitz\\fitz.py:918\u001b[0m, in \u001b[0;36mRect.__init__\u001b[1;34m(self, *args)\u001b[0m\n\u001b[0;32m    917\u001b[0m \u001b[38;5;28;01mdef\u001b[39;00m \u001b[38;5;21m__init__\u001b[39m(\u001b[38;5;28mself\u001b[39m, \u001b[38;5;241m*\u001b[39margs):\n\u001b[1;32m--> 918\u001b[0m     \u001b[38;5;28mself\u001b[39m\u001b[38;5;241m.\u001b[39mx0, \u001b[38;5;28mself\u001b[39m\u001b[38;5;241m.\u001b[39my0, \u001b[38;5;28mself\u001b[39m\u001b[38;5;241m.\u001b[39mx1, \u001b[38;5;28mself\u001b[39m\u001b[38;5;241m.\u001b[39my1 \u001b[38;5;241m=\u001b[39m \u001b[43mTOOLS\u001b[49m\u001b[38;5;241;43m.\u001b[39;49m\u001b[43m_make_rect\u001b[49m\u001b[43m(\u001b[49m\u001b[43margs\u001b[49m\u001b[43m)\u001b[49m\n\u001b[0;32m    919\u001b[0m     \u001b[38;5;28;01mreturn\u001b[39;00m \u001b[38;5;28;01mNone\u001b[39;00m\n",
      "File \u001b[1;32m~\\Miniconda3\\envs\\py39\\lib\\site-packages\\fitz\\fitz.py:9280\u001b[0m, in \u001b[0;36mTools._make_rect\u001b[1;34m(self, a)\u001b[0m\n\u001b[0;32m   9279\u001b[0m \u001b[38;5;28;01mdef\u001b[39;00m \u001b[38;5;21m_make_rect\u001b[39m(\u001b[38;5;28mself\u001b[39m, a: AnyType) \u001b[38;5;241m-\u001b[39m\u001b[38;5;241m>\u001b[39m AnyType:\n\u001b[1;32m-> 9280\u001b[0m     \u001b[38;5;28;01mreturn\u001b[39;00m \u001b[43m_fitz\u001b[49m\u001b[38;5;241;43m.\u001b[39;49m\u001b[43mTools__make_rect\u001b[49m\u001b[43m(\u001b[49m\u001b[38;5;28;43mself\u001b[39;49m\u001b[43m,\u001b[49m\u001b[43m \u001b[49m\u001b[43ma\u001b[49m\u001b[43m)\u001b[49m\n",
      "\u001b[1;31mValueError\u001b[0m: bad sequ length"
     ]
    }
   ],
   "source": [
    "def create_large_rect_of_pod():\n",
    "    lista_pod_start = []\n",
    "    lista_pod_end = []\n",
    "    rektanglar_pod = []\n",
    "    pod_namn = []\n",
    "\n",
    "    for pod in total_pods:\n",
    "        lista_pod_start.append(round(pod[1]))\n",
    "        lista_pod_end.append(round(pod[1]+8))\n",
    "        \n",
    "    for num in range(len(lista_pod_start)-1):\n",
    "        if num == 0:\n",
    "            rektanglar_pod.append([1, lista_pod_start[num] , 600, lista_pod_start[num + 1]])\n",
    "            continue\n",
    "\n",
    "        rektanglar_pod.append([1, lista_pod_end[num] , 600, lista_pod_start[num + 1]])\n",
    "\n",
    "    for word in words_in_page:\n",
    "        if fitz.Rect(word[:4]).intersects(total_pods):\n",
    "            pod_namn.append(word[4])\n",
    "\n",
    "    print(word)\n",
    "    print(rektanglar_pod)\n",
    "    print()\n",
    "    print(lista_pod_start)\n",
    "    print(lista_pod_end)\n",
    "        \n",
    "    #print(lista_pod_start)\n",
    "    #print(lista_pod_end)\n",
    "    \n",
    "\n",
    "create_large_rect_of_pod()\n"
   ]
  },
  {
   "cell_type": "code",
   "execution_count": 71,
   "metadata": {},
   "outputs": [],
   "source": [
    "def gather_data(start, stop):\n",
    "    rektangel = (464, start[1], 555, stop[3]) # rektangel för området\n",
    "    samma_rad = start[1]        # värdet uppdateras varje loop med värdet från föregående loop\n",
    "    lista_gathered_data = []    # varje ny rad representerar en instans i listan\n",
    "    ordlista = \"\"\n",
    "    \n",
    "    for word in total_words:\n",
    "            \n",
    "        if fitz.Rect(word[:4]).intersects(rektangel):\n",
    "            \n",
    "            if samma_rad != word[1]:\n",
    "                lista_gathered_data.append(ordlista.strip())\n",
    "                ordlista = \"\"\n",
    "                ordlista = word[4]\n",
    "\n",
    "            elif samma_rad == word[1]:\n",
    "                ordlista += \" \" + word[4]\n",
    "\n",
    "            samma_rad = word[1]\n",
    "\n",
    "    #lista_gathered_data.append(ordlista.strip()) # lägger till den sista raden i loopen\n",
    "       \n",
    "    return lista_gathered_data"
   ]
  },
  {
   "cell_type": "code",
   "execution_count": 76,
   "metadata": {},
   "outputs": [
    {
     "ename": "TypeError",
     "evalue": "gather_data() missing 2 required positional arguments: 'start' and 'stop'",
     "output_type": "error",
     "traceback": [
      "\u001b[1;31m---------------------------------------------------------------------------\u001b[0m",
      "\u001b[1;31mTypeError\u001b[0m                                 Traceback (most recent call last)",
      "Input \u001b[1;32mIn [76]\u001b[0m, in \u001b[0;36m<module>\u001b[1;34m\u001b[0m\n\u001b[0;32m      1\u001b[0m \u001b[38;5;28;01mfor\u001b[39;00m i, j \u001b[38;5;129;01min\u001b[39;00m \u001b[38;5;28menumerate\u001b[39m(total_pods):\n\u001b[1;32m----> 2\u001b[0m     \u001b[38;5;28mprint\u001b[39m(\u001b[43mgather_data\u001b[49m\u001b[43m(\u001b[49m\u001b[43mtotal_pods\u001b[49m\u001b[43m[\u001b[49m\u001b[43mi\u001b[49m\u001b[43m]\u001b[49m\u001b[43m)\u001b[49m)\n",
      "\u001b[1;31mTypeError\u001b[0m: gather_data() missing 2 required positional arguments: 'start' and 'stop'"
     ]
    }
   ],
   "source": [
    "for i, j in enumerate(total_pods):\n",
    "    print(gather_data(total_pods[i]))"
   ]
  },
  {
   "cell_type": "code",
   "execution_count": null,
   "metadata": {},
   "outputs": [],
   "source": []
  }
 ],
 "metadata": {
  "interpreter": {
   "hash": "dfba822a0ef445a5722cc5f995354a2bca66c844a13293b14a431f9b08cbd6fa"
  },
  "kernelspec": {
   "display_name": "Python 3.9.7 64-bit ('py39': conda)",
   "language": "python",
   "name": "python3"
  },
  "language_info": {
   "codemirror_mode": {
    "name": "ipython",
    "version": 3
   },
   "file_extension": ".py",
   "mimetype": "text/x-python",
   "name": "python",
   "nbconvert_exporter": "python",
   "pygments_lexer": "ipython3",
   "version": "3.9.7"
  },
  "orig_nbformat": 4
 },
 "nbformat": 4,
 "nbformat_minor": 2
}
