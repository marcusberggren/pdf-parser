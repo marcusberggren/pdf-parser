{
 "cells": [
  {
   "cell_type": "code",
   "execution_count": 1,
   "metadata": {},
   "outputs": [],
   "source": [
    "import fitz\n",
    "import re"
   ]
  },
  {
   "cell_type": "code",
   "execution_count": 2,
   "metadata": {},
   "outputs": [],
   "source": [
    "doc = fitz.open(r'C:\\Users\\marcu\\Python_Scripts\\H332 X-PRESS MULHACEN 11.1.2022.pdf')"
   ]
  },
  {
   "cell_type": "code",
   "execution_count": 3,
   "metadata": {},
   "outputs": [],
   "source": [
    "shipper = (33, 140)\n",
    "unit = (222, 290)\n",
    "goods = (312, 445)\n",
    "netw = (468, 502)\n",
    "tare = (510, 547)\n",
    "pod = (460, 550)\n",
    "base_triangle = (33, 100, 547, 580) # första rektangeln på första bladet, mellan \"Shipper :\" och \"Printed :\". Lägger sedan till på y0 och y1"
   ]
  },
  {
   "cell_type": "code",
   "execution_count": 11,
   "metadata": {},
   "outputs": [],
   "source": [
    "total_starts = []   # lista över rektanglar för \"Shipper :\" på alla blad\n",
    "total_stops = []    # lista över rektanglar för \"Units :\" på alla blad\n",
    "total_height = 0.0  # loop över summan av höjderna på alla blad\n",
    "total_words = []    # lista över alla dokumentets ord på alla blad\n",
    "rect_pods = []     # lista över rektanglar för \"Port of Discharge\" på alla blad\n",
    "words_in_rectangles = [] # lista för ord inom rektanglarna, utan \"headers\"\n",
    "total_pods = [] # lista över rektanglar och namn för PODs\n",
    "\n",
    "for page in doc:\n",
    "\n",
    "    # starts\n",
    "    starts = page.search_for(\"Shipper :\")\n",
    "    for rect in starts:\n",
    "        total_starts.append(rect + (0, total_height, 0, total_height)) # lägger till på höjden för y0 och y1\n",
    "\n",
    "    # stops\n",
    "    stops = page.searchFor(\"Units :\")\n",
    "    for rect in stops:\n",
    "        total_stops.append(rect + (0, total_height, 0, total_height))\n",
    "\n",
    "    # total_words\n",
    "    words_in_page = page.get_text(\"words\")\n",
    "    for words in words_in_page:\n",
    "        total_words.append([words[0], words[1] + total_height, words[2], words[3] + total_height, words[4]])\n",
    "\n",
    "    # rect_pods\n",
    "    pods = page.searchFor('Port of discharge')\n",
    "    for rect in pods:      \n",
    "        rect_pods.append(rect + (0, total_height + 12.20998, 0, total_height + 16.08598)) # lägger till på y0 och y1 för att hitta POD\n",
    "    \n",
    "    # words_in_rectangles\n",
    "    base_triangle = (33, 100 + total_height, 547, 580 + total_height) # Utgår från basrektangel (33, 100, 547, 580) och lägger på totalhöjden\n",
    "    words_in_rectangles += [word for word in total_words if fitz.Rect(word[:4]).intersect(base_triangle)] # Tar fram alla ord inom rektangeln ovan\n",
    "\n",
    "    total_height += page.rect.height # lägger till totalhöjden varje loop\n",
    "\n",
    "\n",
    "#rect_pods 2\n",
    "\n",
    "pod_names = [' '.join([words[4] for words in total_words if fitz.Rect(words[:4]).intersect(pod)]) for pod in rect_pods] # Tar fram alla POD is en lista\n",
    "\n",
    "for rect, pod in zip(rect_pods, pod_names):      #lägger ihop rektanglarna med POD-namn\n",
    "    total_pods.append([rect[0], rect[1], rect[2], rect[3], pod])\n",
    "\n",
    "\n",
    "\n"
   ]
  },
  {
   "cell_type": "code",
   "execution_count": null,
   "metadata": {},
   "outputs": [],
   "source": []
  },
  {
   "cell_type": "code",
   "execution_count": 102,
   "metadata": {},
   "outputs": [],
   "source": [
    "def gather_data(start, stop):\n",
    "    rektangel = (464, start[1], 555, stop[3]) # rektangel för området\n",
    "    samma_rad = start[1]        # värdet uppdateras varje loop med värdet från föregående loop\n",
    "    lista_gathered_data = []    # varje ny rad representerar en instans i listan\n",
    "    ordlista = \"\"\n",
    "    \n",
    "    for word in total_words:\n",
    "            \n",
    "        if fitz.Rect(word[:4]).intersects(rektangel):\n",
    "            \n",
    "            if samma_rad != word[1]:\n",
    "                lista_gathered_data.append(ordlista.strip())\n",
    "                ordlista = \"\"\n",
    "                ordlista = word[4]\n",
    "\n",
    "            elif samma_rad == word[1]:\n",
    "                ordlista += \" \" + word[4]\n",
    "\n",
    "            samma_rad = word[1]\n",
    "\n",
    "    lista_gathered_data.append(ordlista.strip()) # lägger till den sista raden i loopen\n",
    "       \n",
    "    return lista_gathered_data\n",
    "\n"
   ]
  },
  {
   "cell_type": "code",
   "execution_count": 113,
   "metadata": {},
   "outputs": [
    {
     "data": {
      "text/plain": [
       "(['20 DC', '3 PKG STAINLESS STEEL'],\n",
       " ['Customs status \"N\"',\n",
       "  'Transhipment by MSC CATERINA',\n",
       "  'Voy. NA202A',\n",
       "  'ETD 23.1.2022 NAVEGANTES, SC',\n",
       "  'ETA 12.2.2022',\n",
       "  'Ref. 79096203 OPS',\n",
       "  '44089/1632869',\n",
       "  'FREIGHT PAYABLE AT As per C/P'])"
      ]
     },
     "execution_count": 113,
     "metadata": {},
     "output_type": "execute_result"
    }
   ],
   "source": [
    "netw_rect = (468, 100, 502, 416)\n",
    "\n",
    "\n",
    "\n",
    "def get_goods_info(goods, start, stop):\n",
    "\n",
    "    rectangle = (goods[0], start[1], goods[1], stop[3])\n",
    "    samma_rad = start\n",
    "    lista_gathered_data = []\n",
    "    lista_ord = \"\"\n",
    "\n",
    "    for word in words_in_rectangles:\n",
    "\n",
    "        if fitz.Rect(word[:4]).intersect(rectangle):\n",
    "            \n",
    "            wording = re.sub(r\"'\", \"\", word[4])                     # Tar bort ' från exv. \"20' DC\"\n",
    "\n",
    "            if samma_rad == word[1]:                                # Om y-värdet på föregående rad i loop är samma som y-värdet för denna runda\n",
    "                lista_ord += \" \" + wording\n",
    "\n",
    "            elif samma_rad != word[1]:                              # Om y-värdet inte stämmer överens\n",
    "                    lista_gathered_data.append(lista_ord.strip())\n",
    "                    lista_ord = \"\"\n",
    "                    lista_ord = wording\n",
    "\n",
    "            samma_rad = word[1]                                     # Sparar Y-värdet för raden för denna loop. Används i nästa runda\n",
    "\n",
    "    lista_gathered_data.remove('')                                  # Tar bort första \"\" i listan\n",
    "    \n",
    "    customs_found = [id for id, value in enumerate(lista_gathered_data) if re.search(r'^Customs', value)]  # Söker efter \"Customs\" i lista_gathered_data och letar match\n",
    "    \n",
    "    lista_ytterligare_info = lista_gathered_data[customs_found[0]:]                                         # Ny lista som kopierar info från match med \"Customs\" och till slutet\n",
    "    lista_gathered_data = lista_gathered_data[:customs_found[0]]                                            # Gör om lista och tar info fram till \"Customs\" match\n",
    "\n",
    "    return lista_gathered_data, lista_ytterligare_info\n",
    "\n",
    "get_goods_info(goods, total_starts[20], total_stops[20])"
   ]
  },
  {
   "cell_type": "code",
   "execution_count": 96,
   "metadata": {},
   "outputs": [
    {
     "name": "stdout",
     "output_type": "stream",
     "text": [
      "['Customs status \"N\"', 'Transhipment by MSC PETRA', 'Voy. NT202A', 'ETD 25.1.2022 GEBZE ETA', '1.2.2022', 'Ref. 11221059091 OPS', '43914/1631983', 'FREIGHT PAYABLE AT As per C/P']\n"
     ]
    }
   ],
   "source": [
    "new_list2 = ['Customs status \"N\"',\n",
    "  'Transhipment by MSC PETRA',\n",
    "  'Voy. NT202A',\n",
    "  'ETD 25.1.2022 GEBZE ETA',\n",
    "  '1.2.2022',\n",
    "  'Ref. 11221059091 OPS',\n",
    "  '43914/1631983',\n",
    "  'FREIGHT PAYABLE AT As per C/P']\n",
    "\n",
    "new_list3 = ['Customs status \"N\"',\n",
    "  'Transhipment by MSC CATERINA',\n",
    "  'Voy. NA202A',\n",
    "  'ETD 23.1.2022 NAVEGANTES, SC',\n",
    "  'ETA 12.2.2022',\n",
    "  'Ref. 79096203 OPS',\n",
    "  '44089/1632869',\n",
    "  'FREIGHT PAYABLE AT As per C/P']\n"
   ]
  },
  {
   "cell_type": "code",
   "execution_count": 123,
   "metadata": {},
   "outputs": [
    {
     "data": {
      "text/plain": [
       "('N', 'MSC PETRA', ' NT202A')"
      ]
     },
     "execution_count": 123,
     "metadata": {},
     "output_type": "execute_result"
    }
   ],
   "source": [
    "def breakdown_ytterligare_info():\n",
    "\n",
    "    ny_lista = new_list2\n",
    "\n",
    "    customs_status = \"\"\n",
    "    ocean_vessel = \"\"\n",
    "    voyage = \"\"\n",
    "    final_dest = \"\"\n",
    "\n",
    "    for val in ny_lista:\n",
    "\n",
    "        if re.search(r'^Customs\\s.{6}\\s\\\".\\\"', val, i):\n",
    "            customs_status = val[16]\n",
    "\n",
    "        if re.search(r'Transhipment\\sby\\s', val, i):\n",
    "            ocean_vessel = val[16:]\n",
    "\n",
    "        if re.search(r'Voy.', val, i):      # Ej klar\n",
    "            voyage = val[4:]\n",
    "\n",
    "        if re.search(r'', val, i):\n",
    "            final_dest =\n",
    "\n",
    "    return customs_status, ocean_vessel, voyage\n",
    "\n",
    "breakdown_ytterligare_info()"
   ]
  },
  {
   "cell_type": "code",
   "execution_count": 62,
   "metadata": {},
   "outputs": [
    {
     "name": "stdout",
     "output_type": "stream",
     "text": [
      "[[1, 4, 5], [6, 4, 5], [6, 5], [4]]\n"
     ]
    }
   ],
   "source": [
    "test_list = [1, 4, 5, 6, 4, 5, 6, 5, 4]\n",
    "\n",
    "size = len(test_list)\n",
    "idx_list = [idx + 1 for idx, val in\n",
    "            enumerate(test_list) if val == 5]\n",
    "\n",
    "new_list = []\n",
    "for i,j in zip([0, 3, 6, 8], [3, 6, 8, 9]):\n",
    "    new_list.append(test_list[i: j])\n",
    "\n",
    "print(new_list)\n"
   ]
  },
  {
   "cell_type": "code",
   "execution_count": null,
   "metadata": {},
   "outputs": [],
   "source": []
  }
 ],
 "metadata": {
  "interpreter": {
   "hash": "dfba822a0ef445a5722cc5f995354a2bca66c844a13293b14a431f9b08cbd6fa"
  },
  "kernelspec": {
   "display_name": "Python 3.9.7 64-bit ('py39': conda)",
   "language": "python",
   "name": "python3"
  },
  "language_info": {
   "codemirror_mode": {
    "name": "ipython",
    "version": 3
   },
   "file_extension": ".py",
   "mimetype": "text/x-python",
   "name": "python",
   "nbconvert_exporter": "python",
   "pygments_lexer": "ipython3",
   "version": "3.9.7"
  },
  "orig_nbformat": 4
 },
 "nbformat": 4,
 "nbformat_minor": 2
}
