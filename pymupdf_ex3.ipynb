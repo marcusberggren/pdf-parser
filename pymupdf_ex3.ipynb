{
 "cells": [
  {
   "cell_type": "code",
   "execution_count": 186,
   "metadata": {},
   "outputs": [],
   "source": [
    "import fitz\n",
    "import re"
   ]
  },
  {
   "cell_type": "code",
   "execution_count": 187,
   "metadata": {},
   "outputs": [],
   "source": [
    "doc = fitz.open(r'C:\\Users\\marcu\\Python_Scripts\\H332 X-PRESS MULHACEN 11.1.2022.pdf')"
   ]
  },
  {
   "cell_type": "code",
   "execution_count": 188,
   "metadata": {},
   "outputs": [],
   "source": [
    "shipper = (33, 140)\n",
    "unit = (222, 290)\n",
    "goods = (312, 445)\n",
    "netw = (468, 502)\n",
    "tare = (510, 547)\n",
    "pod = (460, 550)\n",
    "base_triangle = (33, 100, 547, 580) # första rektangeln på första bladet, mellan \"Shipper :\" och \"Printed :\". Lägger sedan till på y0 och y1"
   ]
  },
  {
   "cell_type": "code",
   "execution_count": 234,
   "metadata": {},
   "outputs": [],
   "source": [
    "total_starts = []   # lista över rektanglar för \"Shipper :\" på alla blad\n",
    "total_stops = []    # lista över rektanglar för \"Units :\" på alla blad\n",
    "total_height = 0.0  # loop över summan av höjderna på alla blad\n",
    "total_words = []    # lista över alla dokumentets ord på alla blad\n",
    "total_pods = []     # lista över rektanglar för \"Port of Discharge\" på alla blad\n",
    "words_in_rectangles = [] # lista för ord inom rektanglarna, utan \"headers\"\n",
    "\n",
    "for page in doc:\n",
    "\n",
    "    # starts\n",
    "    starts = page.search_for(\"Shipper :\")\n",
    "    for rect in starts:\n",
    "        total_starts.append(rect + (0, total_height, 0, total_height)) # lägger till på höjden för y0 och y1\n",
    "\n",
    "    # stops\n",
    "    stops = page.searchFor(\"Units :\")\n",
    "    for rect in stops:\n",
    "        total_stops.append(rect + (0, total_height, 0, total_height))\n",
    "\n",
    "    # total_words\n",
    "    words_in_page = page.get_text(\"words\")\n",
    "    for words in words_in_page:\n",
    "        total_words.append([words[0], words[1] + total_height, words[2], words[3] + total_height, words[4]])\n",
    "\n",
    "    # total_pods\n",
    "    pods = page.searchFor('Port of discharge')\n",
    "    for rect in pods:      \n",
    "        total_pods.append(rect + (0, total_height + 12.20998, 0, total_height + 16.08598)) # lägger till på y0 och y1 för att hitta POD\n",
    "    \n",
    "    # words_in_rectangles\n",
    "    base_triangle = (33, 100 + total_height, 547, 580 + total_height) # Utgår från basrektangel (33, 100, 547, 580) och lägger på totalhöjden\n",
    "    words_in_rectangles += [word for word in total_words if fitz.Rect(word[:4]).intersect(base_triangle)] # Tar fram alla ord inom rektangeln ovan\n",
    "\n",
    "    total_height += page.rect.height # lägger till totalhöjden varje loop\n",
    "\n",
    "\n",
    "#total_pods 2\n",
    "lista_pods = [' '.join([words[4] for words in total_words if fitz.Rect(words[:4]).intersect(pod)]) for pod in total_pods] # Tar fram alla POD is en lista\n",
    "zipped_list_pods = list(zip(total_pods, lista_pods)) # Lägger ihop rektanglarna total_pods med lista_pods\n",
    "\n",
    "\n"
   ]
  },
  {
   "cell_type": "code",
   "execution_count": null,
   "metadata": {},
   "outputs": [],
   "source": []
  },
  {
   "cell_type": "code",
   "execution_count": 183,
   "metadata": {},
   "outputs": [],
   "source": [
    "def gather_data(start, stop):\n",
    "    rektangel = (464, start[1], 555, stop[3]) # rektangel för området\n",
    "    samma_rad = start[1]        # värdet uppdateras varje loop med värdet från föregående loop\n",
    "    lista_gathered_data = []    # varje ny rad representerar en instans i listan\n",
    "    ordlista = \"\"\n",
    "    \n",
    "    for word in total_words:\n",
    "            \n",
    "        if fitz.Rect(word[:4]).intersects(rektangel):\n",
    "            \n",
    "            if samma_rad != word[1]:\n",
    "                lista_gathered_data.append(ordlista.strip())\n",
    "                ordlista = \"\"\n",
    "                ordlista = word[4]\n",
    "\n",
    "            elif samma_rad == word[1]:\n",
    "                ordlista += \" \" + word[4]\n",
    "\n",
    "            samma_rad = word[1]\n",
    "\n",
    "    lista_gathered_data.append(ordlista.strip()) # lägger till den sista raden i loopen\n",
    "       \n",
    "    return lista_gathered_data"
   ]
  },
  {
   "cell_type": "code",
   "execution_count": 241,
   "metadata": {},
   "outputs": [
    {
     "name": "stdout",
     "output_type": "stream",
     "text": [
      "Rect(223.55999755859375, 404.6467590332031, 249.42071533203125, 416.064697265625)\n"
     ]
    }
   ],
   "source": [
    "print(total_stops[0])"
   ]
  },
  {
   "cell_type": "code",
   "execution_count": null,
   "metadata": {},
   "outputs": [],
   "source": [
    "if word[4] == \"Customs\":\n",
    "                customs = word[3]\n",
    "                exit"
   ]
  },
  {
   "cell_type": "code",
   "execution_count": 326,
   "metadata": {},
   "outputs": [
    {
     "name": "stdout",
     "output_type": "stream",
     "text": [
      "<re.Match object; span=(0, 14), match='Customs status'>\n"
     ]
    },
    {
     "data": {
      "text/plain": [
       "[\"20' DC\",\n",
       " '2 PKG STAINLESS STEEL',\n",
       " \"20' DC\",\n",
       " '2 PKG STAINLESS STEEL',\n",
       " \"20' DC\",\n",
       " '2 PKG STAINLESS STEEL',\n",
       " \"20' DC\",\n",
       " '2 PKG STAINLESS STEEL',\n",
       " \"20' DC\",\n",
       " '2 PKG STAINLESS STEEL',\n",
       " \"20' DC\",\n",
       " '2 PKG STAINLESS STEEL',\n",
       " \"20' DC\",\n",
       " '2 PKG STAINLESS STEEL',\n",
       " \"20' DC\",\n",
       " '2 PKG STAINLESS STEEL',\n",
       " \"20' DC\",\n",
       " '2 PKG STAINLESS STEEL',\n",
       " \"20' DC\",\n",
       " '2 PKG STAINLESS STEEL',\n",
       " 'Customs status \"N\"',\n",
       " 'Transhipment by MSC PETRA',\n",
       " 'Voy. NT202A',\n",
       " 'ETD 25.1.2022 GEBZE ETA',\n",
       " '1.2.2022',\n",
       " 'Ref. 11221059091 OPS',\n",
       " '43914/1631983',\n",
       " 'FREIGHT PAYABLE AT As per C/P',\n",
       " 'MRN: 22FI000000020567E6']"
      ]
     },
     "execution_count": 326,
     "metadata": {},
     "output_type": "execute_result"
    }
   ],
   "source": [
    "netw_rect = (468, 100, 502, 416)\n",
    "\n",
    "\n",
    "\n",
    "def get_goods_info():\n",
    "\n",
    "    goods_rect = (312, 102, 445, 416)\n",
    "    samma_rad = goods_rect[1]\n",
    "    lista_gathered_data = []\n",
    "    ordlista = \"\"\n",
    "    more_list = []\n",
    "\n",
    "    for word in words_in_rectangles:\n",
    "\n",
    "        if fitz.Rect(word[:4]).intersect(goods_rect):\n",
    "            \n",
    "            if samma_rad != word[1]:\n",
    "                    lista_gathered_data.append(ordlista.strip())\n",
    "                    ordlista = \"\"\n",
    "                    ordlista = word[4]\n",
    "\n",
    "            elif samma_rad == word[1]:\n",
    "                ordlista += \" \" + word[4]\n",
    "\n",
    "            samma_rad = word[1]\n",
    "\n",
    "    lista_gathered_data.append(ordlista.strip()) # lägger till den sista raden i loopen\n",
    "    lista_gathered_data.remove('') # tar bort första \"\" i listan\n",
    "    more_list = lista_gathered_data\n",
    "\n",
    "    # leta om Customs status finns i lista och ta bort .pop[:20] för att ta bort från lista, men dubblera listan först.\n",
    "\n",
    "    return lista_gathered_data\n",
    "\n",
    "get_goods_info()\n",
    "\n",
    "#print(words_in_rectangles)"
   ]
  },
  {
   "cell_type": "code",
   "execution_count": null,
   "metadata": {},
   "outputs": [],
   "source": []
  }
 ],
 "metadata": {
  "interpreter": {
   "hash": "dfba822a0ef445a5722cc5f995354a2bca66c844a13293b14a431f9b08cbd6fa"
  },
  "kernelspec": {
   "display_name": "Python 3.9.7 64-bit ('py39': conda)",
   "language": "python",
   "name": "python3"
  },
  "language_info": {
   "codemirror_mode": {
    "name": "ipython",
    "version": 3
   },
   "file_extension": ".py",
   "mimetype": "text/x-python",
   "name": "python",
   "nbconvert_exporter": "python",
   "pygments_lexer": "ipython3",
   "version": "3.9.7"
  },
  "orig_nbformat": 4
 },
 "nbformat": 4,
 "nbformat_minor": 2
}
